{
 "cells": [
  {
   "cell_type": "code",
   "execution_count": 1,
   "id": "39deba14",
   "metadata": {},
   "outputs": [],
   "source": [
    "### Generate Random Latitudes and Longitudes"
   ]
  },
  {
   "cell_type": "code",
   "execution_count": 2,
   "id": "540a2932",
   "metadata": {},
   "outputs": [],
   "source": [
    "# Import the random module.\n",
    "import random"
   ]
  },
  {
   "cell_type": "code",
   "execution_count": 3,
   "id": "a1cd7f3a",
   "metadata": {},
   "outputs": [
    {
     "data": {
      "text/plain": [
       "-25"
      ]
     },
     "execution_count": 3,
     "metadata": {},
     "output_type": "execute_result"
    }
   ],
   "source": [
    "## The randint() Function -- Returns an integer between the interval, -90 and up to 89.\n",
    "random.randint(-90, 90)"
   ]
  },
  {
   "cell_type": "code",
   "execution_count": 4,
   "id": "19999502",
   "metadata": {},
   "outputs": [
    {
     "data": {
      "text/plain": [
       "0.7398980181816887"
      ]
     },
     "execution_count": 4,
     "metadata": {},
     "output_type": "execute_result"
    }
   ],
   "source": [
    "## The random() Function -- Returns a floating-point decimal number between 0 and 1.\n",
    "random.random()"
   ]
  },
  {
   "cell_type": "code",
   "execution_count": 5,
   "id": "297974e3",
   "metadata": {},
   "outputs": [
    {
     "data": {
      "text/plain": [
       "13.034511356958463"
      ]
     },
     "execution_count": 5,
     "metadata": {},
     "output_type": "execute_result"
    }
   ],
   "source": [
    "random_number = random.randint(-90,90) + random.random()\n",
    "random_number"
   ]
  },
  {
   "cell_type": "code",
   "execution_count": 6,
   "id": "c1484089",
   "metadata": {},
   "outputs": [
    {
     "name": "stdout",
     "output_type": "stream",
     "text": [
      "[-45.629383993280626]\n",
      "[-45.629383993280626, -8.499596442645688]\n",
      "[-45.629383993280626, -8.499596442645688, -10.736892099584141]\n",
      "[-45.629383993280626, -8.499596442645688, -10.736892099584141, 88.4675734496832]\n",
      "[-45.629383993280626, -8.499596442645688, -10.736892099584141, 88.4675734496832, -76.44247684769286]\n",
      "[-45.629383993280626, -8.499596442645688, -10.736892099584141, 88.4675734496832, -76.44247684769286, 54.47042978231717]\n",
      "[-45.629383993280626, -8.499596442645688, -10.736892099584141, 88.4675734496832, -76.44247684769286, 54.47042978231717, -26.996430405967526]\n",
      "[-45.629383993280626, -8.499596442645688, -10.736892099584141, 88.4675734496832, -76.44247684769286, 54.47042978231717, -26.996430405967526, -80.23303650098691]\n",
      "[-45.629383993280626, -8.499596442645688, -10.736892099584141, 88.4675734496832, -76.44247684769286, 54.47042978231717, -26.996430405967526, -80.23303650098691, -33.97509962405743]\n",
      "[-45.629383993280626, -8.499596442645688, -10.736892099584141, 88.4675734496832, -76.44247684769286, 54.47042978231717, -26.996430405967526, -80.23303650098691, -33.97509962405743, -39.25327480878088]\n"
     ]
    }
   ],
   "source": [
    "# sample of what it might take to generate ten random floating-point decimal latitudes between –90 and 89.\n",
    "\n",
    "x = 1\n",
    "latitudes = []\n",
    "while x < 11:\n",
    "    random_lat = random.randint(-90, 89) + random.random()\n",
    "    latitudes.append(random_lat)\n",
    "    x += 1\n",
    "    print(latitudes)"
   ]
  },
  {
   "cell_type": "code",
   "execution_count": 7,
   "id": "013096a8",
   "metadata": {},
   "outputs": [
    {
     "data": {
      "text/plain": [
       "32"
      ]
     },
     "execution_count": 7,
     "metadata": {},
     "output_type": "execute_result"
    }
   ],
   "source": [
    "## The randrange() Function -- Returns a whole integer between the interval, -90 and 90 where the step is the difference between each number in the sequence.\n",
    "random.randrange(-90, 90, step=1)"
   ]
  },
  {
   "cell_type": "code",
   "execution_count": 8,
   "id": "50fb46a0",
   "metadata": {},
   "outputs": [
    {
     "data": {
      "text/plain": [
       "81"
      ]
     },
     "execution_count": 8,
     "metadata": {},
     "output_type": "execute_result"
    }
   ],
   "source": [
    "random.randrange(-90, 90, step=3)"
   ]
  },
  {
   "cell_type": "code",
   "execution_count": 9,
   "id": "2cde3438",
   "metadata": {},
   "outputs": [
    {
     "data": {
      "text/plain": [
       "-68.41544511934738"
      ]
     },
     "execution_count": 9,
     "metadata": {},
     "output_type": "execute_result"
    }
   ],
   "source": [
    "## The uniform() Function -- Returns a floating-point decimal number between the interval, -90 and 90.\n",
    "random.uniform(-90, 90)"
   ]
  },
  {
   "cell_type": "code",
   "execution_count": 10,
   "id": "5c3fdef8",
   "metadata": {},
   "outputs": [],
   "source": [
    "## The NumPy and random Modules"
   ]
  },
  {
   "cell_type": "code",
   "execution_count": 11,
   "id": "93d38e36",
   "metadata": {},
   "outputs": [],
   "source": [
    "# Import the NumPy module.\n",
    "import numpy as np"
   ]
  },
  {
   "cell_type": "code",
   "execution_count": 12,
   "id": "f3db5f93",
   "metadata": {},
   "outputs": [
    {
     "data": {
      "text/plain": [
       "-0.5224282346061528"
      ]
     },
     "execution_count": 12,
     "metadata": {},
     "output_type": "execute_result"
    }
   ],
   "source": [
    "np.random.uniform(-90.000, 90.000)"
   ]
  },
  {
   "cell_type": "code",
   "execution_count": 13,
   "id": "42dbd53b",
   "metadata": {},
   "outputs": [
    {
     "data": {
      "text/plain": [
       "array([ 86.22526038, -85.7379533 ,  12.01090046, ...,  -7.69177301,\n",
       "       -59.99661932, -49.92503194])"
      ]
     },
     "execution_count": 13,
     "metadata": {},
     "output_type": "execute_result"
    }
   ],
   "source": [
    "np.random.uniform(-90.000, 90.000, size=1500)"
   ]
  },
  {
   "cell_type": "code",
   "execution_count": 14,
   "id": "bcc9f960",
   "metadata": {},
   "outputs": [],
   "source": [
    "# Import timeit.\n",
    "import timeit"
   ]
  },
  {
   "cell_type": "code",
   "execution_count": 15,
   "id": "1b095c1c",
   "metadata": {},
   "outputs": [
    {
     "name": "stdout",
     "output_type": "stream",
     "text": [
      "30.6 µs ± 5.99 µs per loop (mean ± std. dev. of 7 runs, 10000 loops each)\n"
     ]
    }
   ],
   "source": [
    "%timeit np.random.uniform(-90.000, 90.000, size=1500)"
   ]
  },
  {
   "cell_type": "code",
   "execution_count": 16,
   "id": "a3cd831a",
   "metadata": {},
   "outputs": [
    {
     "name": "stdout",
     "output_type": "stream",
     "text": [
      "3.84 ms ± 1.43 ms per loop (mean ± std. dev. of 7 runs, 100 loops each)\n"
     ]
    }
   ],
   "source": [
    "def latitudes(size):\n",
    "    latitudes = []\n",
    "    x = 0\n",
    "    while x < (size):\n",
    "        random_lat = random.randint(-90, 90) + random.random()\n",
    "        latitudes.append(random_lat)\n",
    "        x += 1\n",
    "    return latitudes\n",
    "# Call the function with 1500.\n",
    "%timeit latitudes(1500)"
   ]
  },
  {
   "cell_type": "code",
   "execution_count": 17,
   "id": "690db219",
   "metadata": {},
   "outputs": [],
   "source": [
    "## Create Latitude and Longitude Combinations"
   ]
  },
  {
   "cell_type": "code",
   "execution_count": null,
   "id": "99d50430",
   "metadata": {},
   "outputs": [],
   "source": []
  }
 ],
 "metadata": {
  "kernelspec": {
   "display_name": "Python 3 (ipykernel)",
   "language": "python",
   "name": "python3"
  },
  "language_info": {
   "codemirror_mode": {
    "name": "ipython",
    "version": 3
   },
   "file_extension": ".py",
   "mimetype": "text/x-python",
   "name": "python",
   "nbconvert_exporter": "python",
   "pygments_lexer": "ipython3",
   "version": "3.7.11"
  }
 },
 "nbformat": 4,
 "nbformat_minor": 5
}
